{
 "cells": [
  {
   "cell_type": "code",
   "execution_count": null,
   "metadata": {},
   "outputs": [],
   "source": [
    "continuos with Lists:"
   ]
  },
  {
   "cell_type": "code",
   "execution_count": null,
   "metadata": {},
   "outputs": [],
   "source": [
    "Organising the list datatypes:"
   ]
  },
  {
   "cell_type": "code",
   "execution_count": null,
   "metadata": {},
   "outputs": [],
   "source": []
  },
  {
   "cell_type": "code",
   "execution_count": 1,
   "metadata": {},
   "outputs": [],
   "source": [
    "cars = ['benzs', 'audi', 'bmz', 'tesla', 'cias','toyota','maruti']"
   ]
  },
  {
   "cell_type": "code",
   "execution_count": 2,
   "metadata": {},
   "outputs": [
    {
     "name": "stdout",
     "output_type": "stream",
     "text": [
      "['benzs', 'audi', 'bmz', 'tesla', 'cias', 'toyota', 'maruti']\n"
     ]
    }
   ],
   "source": [
    "print(cars)"
   ]
  },
  {
   "cell_type": "code",
   "execution_count": 5,
   "metadata": {},
   "outputs": [
    {
     "data": {
      "text/plain": [
       "list"
      ]
     },
     "execution_count": 5,
     "metadata": {},
     "output_type": "execute_result"
    }
   ],
   "source": [
    "type(cars)"
   ]
  },
  {
   "cell_type": "raw",
   "metadata": {},
   "source": [
    "#I want to get the above list data in the A-Z alphabetical order .......?\n",
    "there are two approach\n",
    "1) temp......> approach------->sorted----->we can get the original order\n",
    "2) permenent --->approach------->sort.----->changes are applied permenently"
   ]
  },
  {
   "cell_type": "code",
   "execution_count": 8,
   "metadata": {},
   "outputs": [
    {
     "name": "stdout",
     "output_type": "stream",
     "text": [
      "['audi', 'benzs', 'bmz', 'cias', 'maruti', 'tesla', 'toyota']\n"
     ]
    }
   ],
   "source": [
    "print(sorted(cars))\n"
   ]
  },
  {
   "cell_type": "code",
   "execution_count": 9,
   "metadata": {},
   "outputs": [
    {
     "name": "stdout",
     "output_type": "stream",
     "text": [
      "['benzs', 'audi', 'bmz', 'tesla', 'cias', 'toyota', 'maruti']\n"
     ]
    }
   ],
   "source": [
    "print(cars) #this is original order that we have declared......."
   ]
  },
  {
   "cell_type": "code",
   "execution_count": 13,
   "metadata": {},
   "outputs": [],
   "source": [
    "cars.sort()"
   ]
  },
  {
   "cell_type": "code",
   "execution_count": 14,
   "metadata": {},
   "outputs": [
    {
     "name": "stdout",
     "output_type": "stream",
     "text": [
      "['audi', 'benzs', 'bmz', 'cias', 'maruti', 'tesla', 'toyota']\n"
     ]
    }
   ],
   "source": [
    "print(cars)  # this will be permenently sorted"
   ]
  },
  {
   "cell_type": "code",
   "execution_count": null,
   "metadata": {},
   "outputs": [],
   "source": [
    "inetrview question : what is diff btw sorted and sort method in a list datatpe."
   ]
  },
  {
   "cell_type": "code",
   "execution_count": 15,
   "metadata": {},
   "outputs": [
    {
     "name": "stdout",
     "output_type": "stream",
     "text": [
      "Cias\n"
     ]
    }
   ],
   "source": [
    "print(cars[3].title())"
   ]
  },
  {
   "cell_type": "code",
   "execution_count": 16,
   "metadata": {},
   "outputs": [],
   "source": [
    "#req: I want to print the data in the reverse order....?"
   ]
  },
  {
   "cell_type": "raw",
   "metadata": {},
   "source": [
    "print(cars)"
   ]
  },
  {
   "cell_type": "code",
   "execution_count": 17,
   "metadata": {},
   "outputs": [],
   "source": [
    "cars.reverse()"
   ]
  },
  {
   "cell_type": "code",
   "execution_count": 18,
   "metadata": {},
   "outputs": [
    {
     "name": "stdout",
     "output_type": "stream",
     "text": [
      "['toyota', 'tesla', 'maruti', 'cias', 'bmz', 'benzs', 'audi']\n"
     ]
    }
   ],
   "source": [
    "print(cars)"
   ]
  },
  {
   "cell_type": "code",
   "execution_count": 19,
   "metadata": {},
   "outputs": [
    {
     "name": "stdout",
     "output_type": "stream",
     "text": [
      "['toyota', 'tesla', 'maruti', 'cias', 'bmz', 'benzs', 'audi']\n"
     ]
    }
   ],
   "source": [
    "print(cars)"
   ]
  },
  {
   "cell_type": "code",
   "execution_count": 21,
   "metadata": {},
   "outputs": [
    {
     "name": "stdout",
     "output_type": "stream",
     "text": [
      "['toyota', 'tesla', 'maruti', 'cias', 'bmz', 'benzs', 'audi']\n"
     ]
    }
   ],
   "source": [
    "cars.reverse()\n",
    "print(cars)"
   ]
  },
  {
   "cell_type": "code",
   "execution_count": null,
   "metadata": {},
   "outputs": [],
   "source": [
    "#I want to get to know the no of elements or counts of elements in the list....?"
   ]
  },
  {
   "cell_type": "code",
   "execution_count": 22,
   "metadata": {},
   "outputs": [
    {
     "data": {
      "text/plain": [
       "7"
      ]
     },
     "execution_count": 22,
     "metadata": {},
     "output_type": "execute_result"
    }
   ],
   "source": [
    "len(cars)"
   ]
  },
  {
   "cell_type": "code",
   "execution_count": 23,
   "metadata": {},
   "outputs": [
    {
     "name": "stdout",
     "output_type": "stream",
     "text": [
      "['audi', 'benzs', 'bmz', 'cias', 'maruti', 'tesla', 'toyota']\n"
     ]
    }
   ],
   "source": [
    "cars.reverse()\n",
    "print(cars)"
   ]
  },
  {
   "cell_type": "code",
   "execution_count": null,
   "metadata": {},
   "outputs": [],
   "source": []
  },
  {
   "cell_type": "code",
   "execution_count": null,
   "metadata": {},
   "outputs": [],
   "source": [
    "##Intoduction o slicing of LIST:"
   ]
  },
  {
   "cell_type": "code",
   "execution_count": 24,
   "metadata": {},
   "outputs": [],
   "source": [
    "stds =['kiran','rinta','ram', 'shrada','guru','srinee','raj', 'bilal','arbaz']"
   ]
  },
  {
   "cell_type": "code",
   "execution_count": 25,
   "metadata": {},
   "outputs": [
    {
     "name": "stdout",
     "output_type": "stream",
     "text": [
      "['kiran', 'rinta', 'ram', 'shrada', 'guru', 'srinee', 'raj', 'bilal', 'arbaz']\n"
     ]
    }
   ],
   "source": [
    "print(stds)"
   ]
  },
  {
   "cell_type": "code",
   "execution_count": null,
   "metadata": {},
   "outputs": [],
   "source": [
    "#I want to break stds into 3 parts using slices"
   ]
  },
  {
   "cell_type": "code",
   "execution_count": null,
   "metadata": {},
   "outputs": [],
   "source": [
    "#general syntax of slicing:"
   ]
  },
  {
   "cell_type": "code",
   "execution_count": null,
   "metadata": {},
   "outputs": [],
   "source": [
    "[startvalue:stopvalue:stepcount]"
   ]
  },
  {
   "cell_type": "code",
   "execution_count": null,
   "metadata": {},
   "outputs": [],
   "source": [
    "Note:   1. stop value is always exclusive and will not be considered in the alice\n",
    "    2. to include  the stop value increment the index by *1."
   ]
  },
  {
   "cell_type": "code",
   "execution_count": null,
   "metadata": {},
   "outputs": [],
   "source": [
    "# I want to get kiran and rinta in the slice."
   ]
  },
  {
   "cell_type": "code",
   "execution_count": 27,
   "metadata": {},
   "outputs": [
    {
     "name": "stdout",
     "output_type": "stream",
     "text": [
      "['kiran']\n"
     ]
    }
   ],
   "source": [
    "print(stds[0:1])"
   ]
  },
  {
   "cell_type": "code",
   "execution_count": 28,
   "metadata": {},
   "outputs": [
    {
     "name": "stdout",
     "output_type": "stream",
     "text": [
      "['kiran', 'rinta']\n"
     ]
    }
   ],
   "source": [
    "print(stds[0:2])"
   ]
  },
  {
   "cell_type": "code",
   "execution_count": 29,
   "metadata": {},
   "outputs": [
    {
     "name": "stdout",
     "output_type": "stream",
     "text": [
      "['ram', 'shrada']\n"
     ]
    }
   ],
   "source": [
    "#I want to get ram and shrada\n",
    "print(stds[2:4])"
   ]
  },
  {
   "cell_type": "code",
   "execution_count": 30,
   "metadata": {},
   "outputs": [
    {
     "name": "stdout",
     "output_type": "stream",
     "text": [
      "['guru', 'srinee']\n"
     ]
    }
   ],
   "source": [
    "# I want to get shrada and guru\n",
    "print(stds[4:6])"
   ]
  },
  {
   "cell_type": "code",
   "execution_count": 33,
   "metadata": {},
   "outputs": [
    {
     "name": "stdout",
     "output_type": "stream",
     "text": [
      "['bilal', 'arbaz']\n"
     ]
    }
   ],
   "source": [
    "#I want to get last value\n",
    "print(stds[7:9])"
   ]
  },
  {
   "cell_type": "code",
   "execution_count": 40,
   "metadata": {},
   "outputs": [
    {
     "name": "stdout",
     "output_type": "stream",
     "text": [
      "['kiran', 'rinta', 'ram', 'shrada', 'guru', 'srinee', 'raj', 'bilal', 'arbaz']\n",
      "['kiran', 'shrada', 'raj']\n"
     ]
    }
   ],
   "source": [
    "#[startvalue:stopvalue:stepcount] here we cn see its dividing and getting the stepcount value \n",
    "print(stds)\n",
    "print(stds[0:9:3])"
   ]
  },
  {
   "cell_type": "code",
   "execution_count": 42,
   "metadata": {},
   "outputs": [
    {
     "name": "stdout",
     "output_type": "stream",
     "text": [
      "['kiran', 'rinta', 'ram', 'shrada', 'guru', 'srinee', 'raj', 'bilal', 'arbaz']\n",
      "['kiran', 'ram', 'guru', 'raj', 'arbaz']\n"
     ]
    }
   ],
   "source": [
    "#[startvalue:stopvalue:stepcount] here we cn see its dividing and getting the stepcount value \n",
    "print(stds)\n",
    "print(stds[0:9:2])"
   ]
  },
  {
   "cell_type": "code",
   "execution_count": 43,
   "metadata": {},
   "outputs": [
    {
     "name": "stdout",
     "output_type": "stream",
     "text": [
      "['kiran', 'rinta', 'ram', 'shrada', 'guru', 'srinee', 'raj', 'bilal', 'arbaz']\n",
      "['kiran', 'rinta', 'ram', 'shrada', 'guru', 'srinee', 'raj', 'bilal']\n"
     ]
    }
   ],
   "source": [
    "#[startvalue:stopvalue:stepcount] here we cn see its dividing and getting the stepcount value \n",
    "print(stds)\n",
    "print(stds[0:8:1])"
   ]
  },
  {
   "cell_type": "code",
   "execution_count": 44,
   "metadata": {},
   "outputs": [
    {
     "name": "stdout",
     "output_type": "stream",
     "text": [
      "['kiran', 'rinta', 'ram', 'shrada', 'guru', 'srinee', 'raj', 'bilal', 'arbaz']\n",
      "['kiran', 'guru']\n"
     ]
    }
   ],
   "source": [
    "#[startvalue:stopvalue:stepcount] here we cn see its dividing and getting the stepcount value \n",
    "print(stds)\n",
    "print(stds[0:8:4])"
   ]
  },
  {
   "cell_type": "code",
   "execution_count": 60,
   "metadata": {},
   "outputs": [
    {
     "name": "stdout",
     "output_type": "stream",
     "text": [
      "['kiran', 'rinta', 'ram', 'shrada', 'guru', 'srinee', 'raj', 'bilal', 'arbaz']\n",
      "['arbaz', 'bilal', 'guru', 'kiran', 'raj', 'ram', 'rinta', 'shrada', 'srinee']\n",
      "['kiran', 'ram', 'rinta']\n",
      "['arbaz', 'bilal', 'raj', 'srinee', 'guru', 'shrada', 'ram', 'rinta', 'kiran']\n"
     ]
    },
    {
     "data": {
      "text/plain": [
       "9"
      ]
     },
     "execution_count": 60,
     "metadata": {},
     "output_type": "execute_result"
    }
   ],
   "source": [
    "print(stds)\n",
    "print(sorted(stds))\n",
    "print(sorted(stds[0:3]))\n",
    "stds.reverse()\n",
    "print(stds)\n",
    "#type(stds)\n",
    "len(stds)"
   ]
  },
  {
   "cell_type": "code",
   "execution_count": 58,
   "metadata": {},
   "outputs": [],
   "source": []
  },
  {
   "cell_type": "code",
   "execution_count": null,
   "metadata": {},
   "outputs": [],
   "source": []
  },
  {
   "cell_type": "code",
   "execution_count": null,
   "metadata": {},
   "outputs": [],
   "source": []
  },
  {
   "cell_type": "code",
   "execution_count": null,
   "metadata": {},
   "outputs": [],
   "source": []
  }
 ],
 "metadata": {
  "kernelspec": {
   "display_name": "Python 3",
   "language": "python",
   "name": "python3"
  },
  "language_info": {
   "codemirror_mode": {
    "name": "ipython",
    "version": 3
   },
   "file_extension": ".py",
   "mimetype": "text/x-python",
   "name": "python",
   "nbconvert_exporter": "python",
   "pygments_lexer": "ipython3",
   "version": "3.7.4"
  }
 },
 "nbformat": 4,
 "nbformat_minor": 4
}
